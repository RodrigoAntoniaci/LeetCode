{
 "cells": [
  {
   "cell_type": "code",
   "execution_count": null,
   "metadata": {},
   "outputs": [],
   "source": [
    "class Solution(object):\n",
    "    def diameterOfBinaryTree(self, root):\n",
    "        self.ans = 1\n",
    "        def height(item):\n",
    "            if item == None:\n",
    "                return 0         \n",
    "            left_height = height(item.left)\n",
    "            right_height = height(item.right)     \n",
    "            self.ans = max(self.ans,left_height + right_height + 1)\n",
    "            return max(right_height,left_height) + 1 \n",
    "        height(root)\n",
    "        return self.ans - 1"
   ]
  }
 ],
 "metadata": {
  "kernelspec": {
   "display_name": "Python 3",
   "language": "python",
   "name": "python3"
  },
  "language_info": {
   "codemirror_mode": {
    "name": "ipython",
    "version": 3
   },
   "file_extension": ".py",
   "mimetype": "text/x-python",
   "name": "python",
   "nbconvert_exporter": "python",
   "pygments_lexer": "ipython3",
   "version": "3.8.2"
  }
 },
 "nbformat": 4,
 "nbformat_minor": 4
}
