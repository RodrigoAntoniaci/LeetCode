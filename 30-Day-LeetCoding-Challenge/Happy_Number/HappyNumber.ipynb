{
 "cells": [
  {
   "cell_type": "code",
   "execution_count": null,
   "metadata": {},
   "outputs": [],
   "source": [
    "class Solution(object):\n",
    "    def isHappy(self, n):\n",
    "        \"\"\"\n",
    "        :type n: int\n",
    "        :rtype: bool\n",
    "        \"\"\"\n",
    "        def calc(list_n):  \n",
    "            res_calc = 0\n",
    "\n",
    "            for item in n_list:\n",
    "                item =+ item ** 2\n",
    "                res_calc =+ res_calc + item\n",
    "            return res_calc\n",
    "   \n",
    "        answer = False\n",
    "\n",
    "        while answer == False:\n",
    "\n",
    "            str_n = str(n)\n",
    "            n_list = [int(str_n[x]) for x in range(len(str_n))]\n",
    "\n",
    "            validate = list(map(calc,n_list))[0]\n",
    "\n",
    "            if validate == 1:\n",
    "\n",
    "                answer = True\n",
    "                \n",
    "                return True\n",
    "\n",
    "            elif validate == 4:\n",
    "                \n",
    "                return False\n",
    "            \n",
    "            else:\n",
    "                \n",
    "                n = validate"
   ]
  }
 ],
 "metadata": {
  "kernelspec": {
   "display_name": "Python 3",
   "language": "python",
   "name": "python3"
  },
  "language_info": {
   "codemirror_mode": {
    "name": "ipython",
    "version": 3
   },
   "file_extension": ".py",
   "mimetype": "text/x-python",
   "name": "python",
   "nbconvert_exporter": "python",
   "pygments_lexer": "ipython3",
   "version": "3.8.2"
  }
 },
 "nbformat": 4,
 "nbformat_minor": 4
}
