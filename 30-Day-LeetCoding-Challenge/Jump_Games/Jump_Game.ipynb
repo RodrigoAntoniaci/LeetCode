{
 "cells": [
  {
   "cell_type": "code",
   "execution_count": 79,
   "metadata": {},
   "outputs": [],
   "source": [
    "class Solution:\n",
    "    def canJump(self, nums):\n",
    "        target = len(nums) - 1\n",
    "        for i in range(len(nums))[::-1]:\n",
    "            print(f'i = {nums[i]}')\n",
    "            print(f'end = {target}')\n",
    "            if i + nums[i] >= target:\n",
    "                target = i\n",
    "        return not target"
   ]
  }
 ],
 "metadata": {
  "kernelspec": {
   "display_name": "Python 3",
   "language": "python",
   "name": "python3"
  },
  "language_info": {
   "codemirror_mode": {
    "name": "ipython",
    "version": 3
   },
   "file_extension": ".py",
   "mimetype": "text/x-python",
   "name": "python",
   "nbconvert_exporter": "python",
   "pygments_lexer": "ipython3",
   "version": "3.8.2"
  }
 },
 "nbformat": 4,
 "nbformat_minor": 4
}
