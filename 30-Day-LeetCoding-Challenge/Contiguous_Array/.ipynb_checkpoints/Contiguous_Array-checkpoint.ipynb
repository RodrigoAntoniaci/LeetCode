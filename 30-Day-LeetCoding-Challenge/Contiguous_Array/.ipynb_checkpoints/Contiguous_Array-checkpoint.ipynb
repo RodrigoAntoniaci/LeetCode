{
 "cells": [
  {
   "cell_type": "code",
   "execution_count": 208,
   "metadata": {},
   "outputs": [],
   "source": [
    "class Solution(object):\n",
    "    def findMaxLength(self, nums):\n",
    "        dct = {0:-1}\n",
    "        prefix = 0\n",
    "        ans = 0\n",
    "        for key,n in enumerate(nums):\n",
    "            prefix += 1 if n == 1 else -1\n",
    "            if prefix in dct:\n",
    "                ans = max(ans, key - dct[prefix])\n",
    "            else:\n",
    "                dct[prefix] = key\n",
    "        return ans"
   ]
  }
 ],
 "metadata": {
  "kernelspec": {
   "display_name": "Python 3",
   "language": "python",
   "name": "python3"
  },
  "language_info": {
   "codemirror_mode": {
    "name": "ipython",
    "version": 3
   },
   "file_extension": ".py",
   "mimetype": "text/x-python",
   "name": "python",
   "nbconvert_exporter": "python",
   "pygments_lexer": "ipython3",
   "version": "3.8.2"
  }
 },
 "nbformat": 4,
 "nbformat_minor": 4
}
