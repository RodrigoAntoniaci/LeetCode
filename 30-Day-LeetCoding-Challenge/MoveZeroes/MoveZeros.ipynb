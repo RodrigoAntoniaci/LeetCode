{
 "cells": [
  {
   "cell_type": "code",
   "execution_count": 245,
   "metadata": {},
   "outputs": [],
   "source": [
    "class Solution(object):\n",
    "    def moveZeroes(self, nums):\n",
    "        \"\"\"\n",
    "        :type nums: List[int]\n",
    "        :rtype: None Do not return anything, modify nums in-place instead.\n",
    "        \"\"\"\n",
    "        #p2 = 0\n",
    "        #for i in range(len(nums)):\n",
    "        #    if nums[i] != 0:\n",
    "        #        nums.insert(p2,nums.pop(i))\n",
    "        #        p2 += 1\n",
    "                \n",
    "        for i in range(len(nums)):\n",
    "            if nums[i] == 0:\n",
    "                nums.pop(nums[i])\n",
    "                nums.append(0)      \n",
    "        return nums      "
   ]
  }
 ],
 "metadata": {
  "kernelspec": {
   "display_name": "Python 3",
   "language": "python",
   "name": "python3"
  },
  "language_info": {
   "codemirror_mode": {
    "name": "ipython",
    "version": 3
   },
   "file_extension": ".py",
   "mimetype": "text/x-python",
   "name": "python",
   "nbconvert_exporter": "python",
   "pygments_lexer": "ipython3",
   "version": "3.8.2"
  }
 },
 "nbformat": 4,
 "nbformat_minor": 4
}
