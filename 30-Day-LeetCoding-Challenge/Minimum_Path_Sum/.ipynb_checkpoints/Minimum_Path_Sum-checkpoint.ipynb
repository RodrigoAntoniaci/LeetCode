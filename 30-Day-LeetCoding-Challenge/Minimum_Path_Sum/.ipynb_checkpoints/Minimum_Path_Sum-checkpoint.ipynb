{
 "cells": [
  {
   "cell_type": "code",
   "execution_count": 36,
   "metadata": {},
   "outputs": [],
   "source": [
    "class Solution:\n",
    "    def minPathSum(self, grid):\n",
    "        if not grid:\n",
    "            return\n",
    "        lin,col = len(grid), len(grid[0])            \n",
    "        for i in range(1,col):\n",
    "            grid[0][i] += grid[0][i-1]\n",
    "        for i in range(1,lin):\n",
    "            grid[i][0] += grid[i-1][0]  \n",
    "        for i in range(1,lin):\n",
    "            for j in range(1,col):\n",
    "                grid[i][j] += min(grid[i-1][j], grid[i][j-1])\n",
    "        return grid[-1][-1]"
   ]
  }
 ],
 "metadata": {
  "kernelspec": {
   "display_name": "Python 3",
   "language": "python",
   "name": "python3"
  },
  "language_info": {
   "codemirror_mode": {
    "name": "ipython",
    "version": 3
   },
   "file_extension": ".py",
   "mimetype": "text/x-python",
   "name": "python",
   "nbconvert_exporter": "python",
   "pygments_lexer": "ipython3",
   "version": "3.8.2"
  }
 },
 "nbformat": 4,
 "nbformat_minor": 4
}
