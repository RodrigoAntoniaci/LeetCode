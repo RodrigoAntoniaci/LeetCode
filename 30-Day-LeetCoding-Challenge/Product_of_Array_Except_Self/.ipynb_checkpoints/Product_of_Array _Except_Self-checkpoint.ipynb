{
 "cells": [
  {
   "cell_type": "code",
   "execution_count": 105,
   "metadata": {},
   "outputs": [],
   "source": [
    "class Solution:\n",
    "    def productExceptSelf(self, nums):\n",
    "        prod = 1\n",
    "        ans = []\n",
    "        for i in range(0,len(nums)):\n",
    "            ans.append(prod)\n",
    "            prod = prod * nums[i]\n",
    "            print(prod)\n",
    "        prod = 1\n",
    "        for i in range(len(nums)-1,-1,-1):\n",
    "            ans[i] = ans[i] * prod\n",
    "            prod = prod * nums[i]\n",
    "            print(prod)\n",
    "        return ans"
   ]
  }
 ],
 "metadata": {
  "kernelspec": {
   "display_name": "Python 3",
   "language": "python",
   "name": "python3"
  },
  "language_info": {
   "codemirror_mode": {
    "name": "ipython",
    "version": 3
   },
   "file_extension": ".py",
   "mimetype": "text/x-python",
   "name": "python",
   "nbconvert_exporter": "python",
   "pygments_lexer": "ipython3",
   "version": "3.8.2"
  }
 },
 "nbformat": 4,
 "nbformat_minor": 4
}
