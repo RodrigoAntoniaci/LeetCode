{
 "cells": [
  {
   "cell_type": "code",
   "execution_count": null,
   "metadata": {},
   "outputs": [],
   "source": [
    "class MinStack(object):\n",
    "\n",
    "    def __init__(self):\n",
    "        \n",
    "        self.lst = []\n",
    "        \n",
    "    def push(self, x):\n",
    "        \n",
    "        self.lst.append(x) \n",
    "\n",
    "    def pop(self):\n",
    "        \n",
    "        return self.lst.pop()       \n",
    "\n",
    "    def top(self):\n",
    "        \n",
    "        return self.lst[-1]\n",
    "\n",
    "    def getMin(self):\n",
    "        \n",
    "        return min(self.lst)"
   ]
  }
 ],
 "metadata": {
  "kernelspec": {
   "display_name": "Python 3",
   "language": "python",
   "name": "python3"
  },
  "language_info": {
   "codemirror_mode": {
    "name": "ipython",
    "version": 3
   },
   "file_extension": ".py",
   "mimetype": "text/x-python",
   "name": "python",
   "nbconvert_exporter": "python",
   "pygments_lexer": "ipython3",
   "version": "3.8.2"
  }
 },
 "nbformat": 4,
 "nbformat_minor": 4
}
