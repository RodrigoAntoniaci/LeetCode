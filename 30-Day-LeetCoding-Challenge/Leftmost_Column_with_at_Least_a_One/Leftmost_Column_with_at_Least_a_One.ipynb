{
 "cells": [
  {
   "cell_type": "code",
   "execution_count": null,
   "metadata": {},
   "outputs": [],
   "source": [
    "class Solution:\n",
    "    def leftMostColumnWithOne(self, binaryMatrix: 'BinaryMatrix') -> int:\n",
    "        t_rows,t_cols = binaryMatrix.dimensions()\n",
    "        row = 0\n",
    "        col = t_cols - 1\n",
    "        \n",
    "        while row < t_rows and col >= 0:\n",
    "            if binaryMatrix.get(row,col) == 0:\n",
    "                row += 1\n",
    "            else:       \n",
    "                col -= 1\n",
    "        \n",
    "        if col != t_cols - 1:\n",
    "            return col + 1\n",
    "        else:\n",
    "            return -1"
   ]
  }
 ],
 "metadata": {
  "kernelspec": {
   "display_name": "Python 3",
   "language": "python",
   "name": "python3"
  },
  "language_info": {
   "codemirror_mode": {
    "name": "ipython",
    "version": 3
   },
   "file_extension": ".py",
   "mimetype": "text/x-python",
   "name": "python",
   "nbconvert_exporter": "python",
   "pygments_lexer": "ipython3",
   "version": "3.8.2"
  }
 },
 "nbformat": 4,
 "nbformat_minor": 4
}
