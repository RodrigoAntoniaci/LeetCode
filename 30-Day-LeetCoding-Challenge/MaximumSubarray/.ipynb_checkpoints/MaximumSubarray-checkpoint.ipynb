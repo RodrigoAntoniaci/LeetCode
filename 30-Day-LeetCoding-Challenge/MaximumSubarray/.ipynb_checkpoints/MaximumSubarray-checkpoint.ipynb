{
 "cells": [
  {
   "cell_type": "code",
   "execution_count": null,
   "metadata": {},
   "outputs": [],
   "source": [
    "class Solution(object):\n",
    "    def maxSubArray(self, nums):\n",
    "        ans = float('-inf')\n",
    "        n_sum = 0\n",
    "        for n in nums:\n",
    "            n_sum = max(n,n_sum + n)\n",
    "            ans = max(ans, n_sum)\n",
    "        return ans"
   ]
  }
 ],
 "metadata": {
  "kernelspec": {
   "display_name": "Python 3",
   "language": "python",
   "name": "python3"
  },
  "language_info": {
   "codemirror_mode": {
    "name": "ipython",
    "version": 3
   },
   "file_extension": ".py",
   "mimetype": "text/x-python",
   "name": "python",
   "nbconvert_exporter": "python",
   "pygments_lexer": "ipython3",
   "version": "3.8.2"
  }
 },
 "nbformat": 4,
 "nbformat_minor": 4
}
