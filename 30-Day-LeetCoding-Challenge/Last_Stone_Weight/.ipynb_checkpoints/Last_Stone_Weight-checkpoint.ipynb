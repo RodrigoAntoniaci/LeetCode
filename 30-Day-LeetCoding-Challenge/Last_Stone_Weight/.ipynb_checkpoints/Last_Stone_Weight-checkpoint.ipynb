{
 "cells": [
  {
   "cell_type": "code",
   "execution_count": 83,
   "metadata": {},
   "outputs": [],
   "source": [
    "class Solution(object):\n",
    "    import heapq\n",
    "    def lastStoneWeight(self, stones):\n",
    "        heapq.heapify(stones)\n",
    "        size = len(stones)\n",
    "        try:\n",
    "            while size > 1:\n",
    "                    y,x = heapq.nlargest(2,stones)\n",
    "                    if x == y:\n",
    "                        size -= 2\n",
    "                    elif x < y:\n",
    "                        heapq.heappush(stones,y-x)\n",
    "                        size -= 1\n",
    "                        print(stones)\n",
    "                    stones.remove(x)\n",
    "                    stones.remove(y)\n",
    "            return stones[0]\n",
    "        except:\n",
    "            return 0"
   ]
  }
 ],
 "metadata": {
  "kernelspec": {
   "display_name": "Python 3",
   "language": "python",
   "name": "python3"
  },
  "language_info": {
   "codemirror_mode": {
    "name": "ipython",
    "version": 3
   },
   "file_extension": ".py",
   "mimetype": "text/x-python",
   "name": "python",
   "nbconvert_exporter": "python",
   "pygments_lexer": "ipython3",
   "version": "3.8.2"
  }
 },
 "nbformat": 4,
 "nbformat_minor": 4
}
