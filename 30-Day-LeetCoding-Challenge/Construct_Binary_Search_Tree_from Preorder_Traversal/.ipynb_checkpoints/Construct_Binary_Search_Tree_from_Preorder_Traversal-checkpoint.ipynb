{
 "cells": [
  {
   "cell_type": "code",
   "execution_count": null,
   "metadata": {},
   "outputs": [],
   "source": [
    "# Definition for a binary tree node.\n",
    "# class TreeNode:\n",
    "#     def __init__(self, x):\n",
    "#         self.val = x\n",
    "#         self.left = None\n",
    "#         self.right = None\n",
    "\n",
    "class Solution:\n",
    "    def bstFromPreorder(self, preorder: List[int]) -> TreeNode:\n",
    "        root = TreeNode(preorder[0])\n",
    "        stk = [root]\n",
    "        for i in preorder[1:]:\n",
    "            if i < stk[-1].val:\n",
    "                stk[-1].left = TreeNode(i)\n",
    "                stk.append(stk[-1].left)\n",
    "            else:\n",
    "                while stk and stk[-1].val < i:\n",
    "                    last = stk.pop()\n",
    "                last.right = TreeNode(i)\n",
    "                stk.append(last.right)\n",
    "        return root\n"
   ]
  }
 ],
 "metadata": {
  "kernelspec": {
   "display_name": "Python 3",
   "language": "python",
   "name": "python3"
  },
  "language_info": {
   "codemirror_mode": {
    "name": "ipython",
    "version": 3
   },
   "file_extension": ".py",
   "mimetype": "text/x-python",
   "name": "python",
   "nbconvert_exporter": "python",
   "pygments_lexer": "ipython3",
   "version": "3.8.2"
  }
 },
 "nbformat": 4,
 "nbformat_minor": 4
}
