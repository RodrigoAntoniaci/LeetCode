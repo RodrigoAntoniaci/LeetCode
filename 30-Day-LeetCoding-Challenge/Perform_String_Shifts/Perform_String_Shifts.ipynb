{
 "cells": [
  {
   "cell_type": "code",
   "execution_count": 34,
   "metadata": {},
   "outputs": [],
   "source": [
    "class Solution(object):\n",
    "    from collections import deque\n",
    "    def stringShift(self, s, shift):\n",
    "        deck = collections.deque(s)\n",
    "        for i in shift:\n",
    "            if i[0] == 0:\n",
    "                side = 0\n",
    "                while side < i[1]:\n",
    "                    ns.append(ns.popleft())\n",
    "                    side += 1\n",
    "            else:\n",
    "                side = 0\n",
    "                while side < i[1]:\n",
    "                    ns.appendleft(ns.pop())\n",
    "                    side += 1\n",
    "        return ''.join(ns) "
   ]
  }
 ],
 "metadata": {
  "kernelspec": {
   "display_name": "Python 3",
   "language": "python",
   "name": "python3"
  },
  "language_info": {
   "codemirror_mode": {
    "name": "ipython",
    "version": 3
   },
   "file_extension": ".py",
   "mimetype": "text/x-python",
   "name": "python",
   "nbconvert_exporter": "python",
   "pygments_lexer": "ipython3",
   "version": "3.8.2"
  }
 },
 "nbformat": 4,
 "nbformat_minor": 4
}
