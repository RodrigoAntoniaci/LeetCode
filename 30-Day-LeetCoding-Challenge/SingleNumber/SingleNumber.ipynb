{
 "cells": [
  {
   "cell_type": "code",
   "execution_count": null,
   "metadata": {},
   "outputs": [],
   "source": [
    "class Solution(object):\n",
    "    def singleNumber(self, nums):\n",
    "        \"\"\"\n",
    "        :type nums: List[int]\n",
    "        :rtype: int\n",
    "        \"\"\"\n",
    "        my_dict = {}\n",
    "        \n",
    "        for n in nums:\n",
    "            \n",
    "            if n not in my_dict.keys():\n",
    "                \n",
    "                my_dict.update({n:1})\n",
    "                \n",
    "            else:\n",
    "                my_dict[n] += 1\n",
    "        for key,value in my_dict.items():\n",
    "            \n",
    "            if value == 1:\n",
    "        \n",
    "                return key"
   ]
  }
 ],
 "metadata": {
  "kernelspec": {
   "display_name": "Python 3",
   "language": "python",
   "name": "python3"
  },
  "language_info": {
   "codemirror_mode": {
    "name": "ipython",
    "version": 3
   },
   "file_extension": ".py",
   "mimetype": "text/x-python",
   "name": "python",
   "nbconvert_exporter": "python",
   "pygments_lexer": "ipython3",
   "version": "3.8.2"
  }
 },
 "nbformat": 4,
 "nbformat_minor": 4
}
